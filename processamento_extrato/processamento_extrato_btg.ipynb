{
 "cells": [
  {
   "cell_type": "markdown",
   "id": "e2d2e06e",
   "metadata": {},
   "source": [
    "# Processamento dos dados do extrato do BTG para capturar informações sobre BTC (aluguel de ações)\n",
    "\n",
    "\n",
    "Eu gerei o extrato no site do BTG e após isso, selecionei as colunas de dados e copiei para o Excel.\n",
    "Removi a coluna de saldo, uma vez que não preciso dela.\n",
    "Não encontrei uma maneira de exportar o extrato em Excel."
   ]
  },
  {
   "cell_type": "code",
   "execution_count": null,
   "id": "45bf180d",
   "metadata": {},
   "outputs": [],
   "source": [
    "import pandas as pd"
   ]
  },
  {
   "cell_type": "code",
   "execution_count": null,
   "id": "cb585fdd",
   "metadata": {},
   "outputs": [],
   "source": [
    "def processa_descricao(row):\n",
    "    saida = \"\"\n",
    "    if \"TAXA EMPRÉSTIMO\" in row['Descrição']:\n",
    "        saida = \"TAXA DE REMUNERAÇÃO\"\n",
    "    elif \"Corretagem BTC\" in row['Descrição']:\n",
    "        saida = \"COMISSÃO BTC\"\n",
    "    elif \"REEMB.DIVIDENDOS/JUROS\" in row['Descrição']:\n",
    "        saida = \"REEMB.DIVIDENDOS\"\n",
    "    elif \"TAXA NEGOCIACAO EMPRESTIMO - BTC\" in row['Descrição']:\n",
    "        saida = \"TAXA NEGOCIACAO EMPRESTIMO\"\n",
    "    elif \"TAXA DE PERMANÊNCIA OP. ESTRUTURADAS\" in row['Descrição']:\n",
    "        saida = \"TAXA DE PERMANÊNCIA OP. ESTRUTURADAS\"       \n",
    "    else:\n",
    "        saida = row['Descrição']\n",
    "    \n",
    "    return saida\n",
    "        "
   ]
  },
  {
   "cell_type": "code",
   "execution_count": null,
   "id": "24021d89",
   "metadata": {},
   "outputs": [],
   "source": [
    "# path do arquivo de extrato\n",
    "# formato do arquivo\n",
    "# Data, Descrição, Operação, Movimentação\n",
    "\n",
    "ARQUIVO_EXTRATO = r'./extrato_btg.xlsx'"
   ]
  },
  {
   "cell_type": "code",
   "execution_count": null,
   "id": "c09e7890",
   "metadata": {},
   "outputs": [],
   "source": [
    "dados = pd.read_excel(ARQUIVO_EXTRATO)\n",
    "#dados.drop(columns=['Saldo'], inplace=True)"
   ]
  },
  {
   "cell_type": "code",
   "execution_count": null,
   "id": "52903575",
   "metadata": {},
   "outputs": [],
   "source": [
    "dados_btc = dados[(dados['Descrição'].str.contains('BTC')) | \n",
    "                  (dados['Descrição'].str.contains('EMPRESTIMO')) |\n",
    "                  (dados['Descrição'].str.contains('TAXA')) |\n",
    "                  (dados['Descrição'].str.contains('REEMB.DIVIDENDOS/JUROS'))\n",
    "                 ]\n",
    "\n",
    "#remove as linhas com o fundo BTCI11\n",
    "dados_btc = dados_btc[(~dados_btc['Descrição'].str.contains('BTCI11'))]\n"
   ]
  },
  {
   "cell_type": "code",
   "execution_count": null,
   "id": "ca0624ba",
   "metadata": {},
   "outputs": [],
   "source": [
    "dados_btc['FILTRO'] = dados_btc.apply(processa_descricao, axis=1)\n"
   ]
  },
  {
   "cell_type": "code",
   "execution_count": null,
   "id": "a6ddb9d7",
   "metadata": {},
   "outputs": [],
   "source": [
    "dados_btc"
   ]
  },
  {
   "cell_type": "markdown",
   "id": "4634b6c3",
   "metadata": {},
   "source": [
    "## Realiza a união do dataframe `dados_btc` e `pivot_custos_totais`"
   ]
  },
  {
   "cell_type": "code",
   "execution_count": null,
   "id": "3384712f",
   "metadata": {},
   "outputs": [],
   "source": [
    "dados_btc2 = dados_btc.copy()\n",
    "dados_btc2"
   ]
  },
  {
   "cell_type": "code",
   "execution_count": null,
   "id": "9f955a4c",
   "metadata": {},
   "outputs": [],
   "source": [
    "#dados_btc2['COMISSAO_BTC_PAPEL'] = dados_btc2.apply(calcula_custos_comissao, axis=1)\n",
    "#dados_btc2"
   ]
  },
  {
   "cell_type": "code",
   "execution_count": null,
   "id": "cde164dd",
   "metadata": {},
   "outputs": [],
   "source": [
    "# Define the regex pattern for extraction\n",
    "pattern = r'LIQ BOLSA \\(Corretagem BTC\\s+\\d+\\s+(\\w+)\\)|LIQ BOLSA \\(TAXA EMPRÉSTIMO\\s+(\\w+)\\s+\\d+\\)'\n",
    "\n",
    "# Extract the substrings using the regex pattern and create a new column\n",
    "dados_btc2['ATIVO'] = dados_btc2['Descrição'].str.extract(pattern).bfill(axis=1).iloc[:, 0]\n",
    "\n",
    "#TAXA DE PERMANÊNCIA OP. ESTRUTURADAS\n",
    "# Apesar de não se um custo de BTC, vou colocar em ATIVO a definir, pois é um custo que preciso inserir manualmente na Sencon\n",
    "dados_btc2.loc[dados_btc2['Descrição'].str.contains(\"TAXA DE PERMANÊNCIA OP. ESTRUTURADAS\"), 'ATIVO'] = 'A DEFINIR'\n",
    "\n"
   ]
  },
  {
   "cell_type": "code",
   "execution_count": null,
   "id": "5beb1573",
   "metadata": {},
   "outputs": [],
   "source": [
    "dados_btc2[dados_btc2['Data'] == '2023-08-16']"
   ]
  },
  {
   "cell_type": "code",
   "execution_count": null,
   "id": "41dcde15",
   "metadata": {},
   "outputs": [],
   "source": [
    "dados_btc2['COMISSAO_BTC_PAPEL'] = 0\n",
    "dados_btc2['REMUNERACAO_BTC_PAPEL'] = 0\n",
    "dados_btc2['TAXA_PERMANENCIA_PAPEL'] = 0\n",
    "dados_btc2['REEMB_DIV_PAPEL'] = 0\n"
   ]
  },
  {
   "cell_type": "code",
   "execution_count": null,
   "id": "0b4352b8",
   "metadata": {},
   "outputs": [],
   "source": [
    "# seleciona o valor da Taxa de negociação e coloca na mesma linha que a TAXA DE REMUNERACAO\n",
    "# em geral, não haverá reembolso num mesmo dia que houve \n",
    "for index, row in dados_btc2.iterrows():\n",
    "    if row['FILTRO'] == 'TAXA DE REMUNERAÇÃO':\n",
    "        valor = dados_btc2.loc[(dados_btc2['Data']==row['Data']) & \n",
    "                           (dados_btc2['ATIVO']==row['ATIVO']) &\n",
    "                           (dados_btc2['FILTRO']=='COMISSÃO BTC')]\n",
    "        #pega o valor da linha 0, coluna 4 (coluna 4 é a coluna do Valor de transação)\n",
    "        #print(f\"x{row['Movimentação']}x y{row['ATIVO']}y z{valor}z\")\n",
    "        #print(f\"primeiro: {len(valor)}\")\n",
    "        if len(valor) > 0:\n",
    "            valor_escalar = valor.iat[0,3]\n",
    "            dados_btc2.loc[index,'COMISSAO_BTC_PAPEL'] = valor_escalar\n"
   ]
  },
  {
   "cell_type": "code",
   "execution_count": null,
   "id": "9e35363d",
   "metadata": {},
   "outputs": [],
   "source": [
    "# adiciona coluna de TAXA DE REMUNERAÇÃO\n",
    "dados_btc2.loc[dados_btc2['FILTRO'] == \"TAXA DE REMUNERAÇÃO\", 'REMUNERACAO_BTC_PAPEL'] = dados_btc2[\"Movimentação\"] \n",
    "\n",
    "# adiciona coluna de TAXA DE PERMANENCIA\n",
    "dados_btc2.loc[dados_btc2['FILTRO'] == \"TAXA DE PERMANÊNCIA OP. ESTRUTURADAS\", 'TAXA_PERMANENCIA_PAPEL'] = dados_btc2[\"Movimentação\"] \n",
    "\n",
    "# adiciona coluna de REEMB DIVIDENDOS\n",
    "dados_btc2.loc[dados_btc2['FILTRO'] == \"REEMB.DIVIDENDOS\",'REEMB_DIV_PAPEL'] = dados_btc2['Movimentação'] \n",
    "\n",
    "\n",
    "# reposiciona as colunas para melhor organização\n",
    "dados_btc2 = dados_btc2.reindex(['Data', 'ATIVO', 'FILTRO', 'Operação','Descrição','Movimentação','REMUNERACAO_BTC_PAPEL',\n",
    "                                 'COMISSAO_BTC_PAPEL','REEMB_DIV_PAPEL' ,\n",
    "                                'TAXA_PERMANENCIA_PAPEL'],axis=1)\n",
    "\n",
    "# preenche com zero onde estiver NA\n",
    "# se nao fizer isso, o CUSTO_TOTAL ficará com NA\n",
    "dados_btc2.fillna(0, inplace=True)\n",
    "\n",
    "# custo total\n",
    "dados_btc2['CUSTO_TOTAL'] = dados_btc2['REMUNERACAO_BTC_PAPEL'] + \\\n",
    "                            dados_btc2['COMISSAO_BTC_PAPEL'] +    \\\n",
    "                            dados_btc2['REEMB_DIV_PAPEL'] +       \\\n",
    "                            dados_btc2['TAXA_PERMANENCIA_PAPEL'] \n",
    "\n",
    "\n",
    "dados_btc2.loc[dados_btc2['Operação']==\"Crédito\", 'CUSTO_TOTAL'] = dados_btc2['REMUNERACAO_BTC_PAPEL'] - \\\n",
    "                                                                   dados_btc2['COMISSAO_BTC_PAPEL'] \n",
    "\n",
    "\n",
    "# remove linhas de TAXA NEGOCIACAO EMPRESTIMO\n",
    "dados_btc2 = dados_btc2[~(dados_btc2['FILTRO']=='COMISSÃO BTC')]\n",
    "\n",
    "# remove colunas desnecessárias\n",
    "dados_btc2.drop(columns=['FILTRO','Descrição','Movimentação'], inplace=True)\n"
   ]
  },
  {
   "cell_type": "code",
   "execution_count": null,
   "id": "469481cd",
   "metadata": {},
   "outputs": [],
   "source": [
    "dados_btc2[dados_btc2['Data'] == '2023-08-16']"
   ]
  },
  {
   "cell_type": "code",
   "execution_count": null,
   "id": "72b45e6d",
   "metadata": {},
   "outputs": [],
   "source": [
    "dados_btc2[dados_btc2['Data'] == '2023-08-22']"
   ]
  },
  {
   "cell_type": "code",
   "execution_count": null,
   "id": "f91a3f11",
   "metadata": {},
   "outputs": [],
   "source": [
    "# exporta dados para o excel\n",
    "dados_btc2.to_excel('custos_btc_btg.xlsx')"
   ]
  }
 ],
 "metadata": {
  "kernelspec": {
   "display_name": "Python 3 (ipykernel)",
   "language": "python",
   "name": "python3"
  },
  "language_info": {
   "codemirror_mode": {
    "name": "ipython",
    "version": 3
   },
   "file_extension": ".py",
   "mimetype": "text/x-python",
   "name": "python",
   "nbconvert_exporter": "python",
   "pygments_lexer": "ipython3",
   "version": "3.8.16"
  }
 },
 "nbformat": 4,
 "nbformat_minor": 5
}
