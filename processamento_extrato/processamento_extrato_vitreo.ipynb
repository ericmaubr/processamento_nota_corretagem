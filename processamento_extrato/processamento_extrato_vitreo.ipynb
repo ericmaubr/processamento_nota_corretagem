{
 "cells": [
  {
   "cell_type": "markdown",
   "id": "e2d2e06e",
   "metadata": {},
   "source": [
    "# Processamento dos dados do extrato da Vitreo para capturar informações sobre BTC (aluguel de ações)"
   ]
  },
  {
   "cell_type": "code",
   "execution_count": null,
   "id": "45bf180d",
   "metadata": {},
   "outputs": [],
   "source": [
    "import pandas as pd"
   ]
  },
  {
   "cell_type": "code",
   "execution_count": null,
   "id": "cb585fdd",
   "metadata": {},
   "outputs": [],
   "source": [
    "def processa_descricao(row):\n",
    "    saida = \"\"\n",
    "    if \"TAXA DE REMUNERAÇÃO\" in row['Descrição']:\n",
    "        saida = \"TAXA DE REMUNERAÇÃO\"\n",
    "    elif \"COMISSÃO BTC\" in row['Descrição']:\n",
    "        saida = \"COMISSÃO BTC\"\n",
    "    elif \"REEMB.DIVIDENDOS/JUROS\" in row['Descrição']:\n",
    "        saida = \"REEMB.DIVIDENDOS\"\n",
    "    elif \"TAXA NEGOCIACAO EMPRESTIMO - BTC\" in row['Descrição']:\n",
    "        saida = \"TAXA NEGOCIACAO EMPRESTIMO\"\n",
    "    elif \"TAXA DE PERMANÊNCIA OP. ESTRUTURADAS\" in row['Descrição']:\n",
    "        saida = \"TAXA DE PERMANÊNCIA OP. ESTRUTURADAS\"       \n",
    "    else:\n",
    "        saida = row['Descrição']\n",
    "    \n",
    "    return saida\n",
    "        "
   ]
  },
  {
   "cell_type": "code",
   "execution_count": null,
   "id": "37659d60",
   "metadata": {},
   "outputs": [],
   "source": [
    "def calcula_custos_comissao(row):\n",
    "    comissao = 0\n",
    "    negociacao = 0\n",
    "    reembolso = 0\n",
    "    if row['FILTRO'] == 'TAXA DE REMUNERAÇÃO':\n",
    "        comissao = row['COMISSÃO BTC'] * (row['Valor de transação'] / row['TAXA DE REMUNERAÇÃO'])\n",
    "     \n",
    "    return comissao"
   ]
  },
  {
   "cell_type": "code",
   "execution_count": null,
   "id": "24021d89",
   "metadata": {},
   "outputs": [],
   "source": [
    "# path do arquivo de extrato\n",
    "# formato do arquivo\n",
    "# Data Movimentação, Data Liquidação, Tipo (C/D), Descrição, Valor de transação, Saldo\n",
    "\n",
    "ARQUIVO_EXTRATO = r'./extrato_vitreo.xlsx'"
   ]
  },
  {
   "cell_type": "code",
   "execution_count": null,
   "id": "c09e7890",
   "metadata": {},
   "outputs": [],
   "source": [
    "dados = pd.read_excel(ARQUIVO_EXTRATO)\n",
    "dados.drop(columns=['Saldo'], inplace=True)"
   ]
  },
  {
   "cell_type": "code",
   "execution_count": null,
   "id": "52903575",
   "metadata": {},
   "outputs": [],
   "source": [
    "dados_btc = dados[(dados['Descrição'].str.contains('BTC')) | \n",
    "                  (dados['Descrição'].str.contains('EMPRESTIMO')) |\n",
    "                  (dados['Descrição'].str.contains('TAXA')) |\n",
    "                  (dados['Descrição'].str.contains('REEMB.DIVIDENDOS/JUROS'))\n",
    "                 ]\n",
    "\n",
    "#remove as linhas com o fundo BTCI11\n",
    "dados_btc = dados_btc[(~dados_btc['Descrição'].str.contains('BTCI11'))]\n"
   ]
  },
  {
   "cell_type": "code",
   "execution_count": null,
   "id": "ca0624ba",
   "metadata": {},
   "outputs": [],
   "source": [
    "dados_btc['FILTRO'] = dados_btc.apply(processa_descricao, axis=1)\n"
   ]
  },
  {
   "cell_type": "code",
   "execution_count": null,
   "id": "a6ddb9d7",
   "metadata": {},
   "outputs": [],
   "source": [
    "dados_btc"
   ]
  },
  {
   "cell_type": "code",
   "execution_count": null,
   "id": "4c7c4fd8",
   "metadata": {},
   "outputs": [],
   "source": [
    "dados_btc[dados_btc['Movimentação'] == '2023-06-30']"
   ]
  },
  {
   "cell_type": "code",
   "execution_count": null,
   "id": "b054abad",
   "metadata": {},
   "outputs": [],
   "source": [
    "custos_totais = dados_btc.groupby(['Movimentação','FILTRO']).agg(sum_valor = ('Valor de transação', 'sum')).reset_index()\n",
    "custos_totais = custos_totais[(custos_totais['FILTRO'].str.contains('COMISSÃO BTC')) | \n",
    "                              (custos_totais['FILTRO'].str.contains('TAXA DE REMUNERAÇÃO'))\n",
    "#                              (custos_totais['FILTRO'].str.contains('REEMB.DIVIDENDOS')) |\n",
    "#                              (custos_totais['FILTRO'].str.contains('TAXA NEGOCIACAO EMPRESTIMO'))\n",
    "                             ]\n"
   ]
  },
  {
   "cell_type": "code",
   "execution_count": null,
   "id": "3aeee3fc",
   "metadata": {},
   "outputs": [],
   "source": [
    "custos_totais"
   ]
  },
  {
   "cell_type": "code",
   "execution_count": null,
   "id": "c09b1d43",
   "metadata": {},
   "outputs": [],
   "source": [
    "custos_totais[custos_totais['Movimentação'] == '2023-06-30']"
   ]
  },
  {
   "cell_type": "code",
   "execution_count": null,
   "id": "01bf0c6d",
   "metadata": {},
   "outputs": [],
   "source": [
    "# Pivot the dataframe\n",
    "pivot_custos_totais = custos_totais.pivot(index='Movimentação', columns='FILTRO', values='sum_valor')\n",
    "\n",
    "# Fill NaN values with 0\n",
    "pivot_custos_totais = pivot_custos_totais.fillna(0)\n",
    "\n",
    "# Reset the index\n",
    "pivot_custos_totais.reset_index(inplace=True)\n",
    "\n",
    "# Rename the columns\n",
    "pivot_custos_totais.columns.name = None\n"
   ]
  },
  {
   "cell_type": "code",
   "execution_count": null,
   "id": "0ab612fd",
   "metadata": {},
   "outputs": [],
   "source": [
    "pivot_custos_totais"
   ]
  },
  {
   "cell_type": "markdown",
   "id": "4634b6c3",
   "metadata": {},
   "source": [
    "## Realiza a união do dataframe `dados_btc` e `pivot_custos_totais`"
   ]
  },
  {
   "cell_type": "code",
   "execution_count": null,
   "id": "3384712f",
   "metadata": {},
   "outputs": [],
   "source": [
    "dados_btc2 = pd.merge(dados_btc, pivot_custos_totais, how=\"outer\", on=['Movimentação'] )\n",
    "dados_btc2"
   ]
  },
  {
   "cell_type": "code",
   "execution_count": null,
   "id": "9f955a4c",
   "metadata": {},
   "outputs": [],
   "source": [
    "dados_btc2['COMISSAO_BTC_PAPEL'] = dados_btc2.apply(calcula_custos_comissao, axis=1)\n",
    "dados_btc2"
   ]
  },
  {
   "cell_type": "code",
   "execution_count": null,
   "id": "cde164dd",
   "metadata": {},
   "outputs": [],
   "source": [
    "# Define the regex pattern for extraction\n",
    "pattern = r'(BR\\w+)\\s+TAXA NEGOCIACAO EMPRESTIMO - BTC|TAXA DE REMUNERAÇÃO - BTC\\s+(BR\\w+)|REEMB.DIVIDENDOS/JUROS BTC\\s+(BR\\w+)'\n",
    "\n",
    "# Extract the substrings using the regex pattern and create a new column\n",
    "dados_btc2['ATIVO'] = dados_btc2['Descrição'].str.extract(pattern).bfill(axis=1).iloc[:, 0].str[2:6]\n",
    "\n",
    "#TAXA DE PERMANÊNCIA OP. ESTRUTURADAS\n",
    "# Apesar de não se um custo de BTC, vou colocar em ATIVO a definir, pois é um custo que preciso inserir manualmente na Sencon\n",
    "dados_btc2.loc[dados_btc2['Descrição'].str.contains(\"TAXA DE PERMANÊNCIA OP. ESTRUTURADAS\"), 'ATIVO'] = 'A DEFINIR'\n",
    "\n"
   ]
  },
  {
   "cell_type": "code",
   "execution_count": null,
   "id": "5beb1573",
   "metadata": {},
   "outputs": [],
   "source": [
    "dados_btc2[dados_btc2['Movimentação'] == '2023-08-07']"
   ]
  },
  {
   "cell_type": "code",
   "execution_count": null,
   "id": "3d190414",
   "metadata": {},
   "outputs": [],
   "source": [
    "dados_btc2[dados_btc2['Movimentação'] == '2023-06-30']"
   ]
  },
  {
   "cell_type": "code",
   "execution_count": null,
   "id": "21b030c9",
   "metadata": {},
   "outputs": [],
   "source": [
    "# verificando se tem algum recebimento de BTC com ATIVO mapeado\n",
    "# se aparecer vazio, está correto\n",
    "# Vou separar esse dataset para trabalhar no futuro e remover essas linhas do dados_btc2\n",
    "# dessa maneira, dados_btc2 vai ter apenas os dados de custo de quando eu estou alugando as ações\n",
    "dados_btc2[(~dados_btc2['ATIVO'].isnull()) & (dados_btc2['Valor de transação'] >0)]"
   ]
  },
  {
   "cell_type": "code",
   "execution_count": null,
   "id": "501d09e0",
   "metadata": {},
   "outputs": [],
   "source": [
    "dados_receita_btc = dados_btc2[dados_btc2['ATIVO'].isnull()]\n"
   ]
  },
  {
   "cell_type": "code",
   "execution_count": null,
   "id": "9a7b7638",
   "metadata": {},
   "outputs": [],
   "source": [
    "dados_receita_btc"
   ]
  },
  {
   "cell_type": "code",
   "execution_count": null,
   "id": "132eeafa",
   "metadata": {},
   "outputs": [],
   "source": [
    "# limpeza do dados_btc2\n",
    "\n",
    "#remove ATIVOS com NA\n",
    "dados_btc2 = dados_btc2[~dados_btc2['ATIVO'].isnull()]\n",
    "\n",
    "# remove as linhas que contém \"COMISSÃO BTC\"\n",
    "# essa informação ficou redundante\n",
    "dados_btc2 = dados_btc2[(~dados_btc2['Descrição'].str.contains('COMISSÃO BTC'))]\n",
    "dados_btc2 = dados_btc2.drop(columns=['COMISSÃO BTC', 'Liquidação', 'Tipo'])\n",
    "\n"
   ]
  },
  {
   "cell_type": "code",
   "execution_count": null,
   "id": "92c7566c",
   "metadata": {},
   "outputs": [],
   "source": [
    "dados_btc2"
   ]
  },
  {
   "cell_type": "code",
   "execution_count": null,
   "id": "41dcde15",
   "metadata": {},
   "outputs": [],
   "source": [
    "dados_btc2['NEGOCIACAO_BTC_PAPEL'] = 0\n",
    "\n"
   ]
  },
  {
   "cell_type": "code",
   "execution_count": null,
   "id": "9e35363d",
   "metadata": {},
   "outputs": [],
   "source": [
    "# seleciona o valor da Taxa de negociação e coloca na mesma linha que a TAXA DE REMUNERACAO\n",
    "# em geral, não haverá reembolso num mesmo dia que houve \n",
    "for index, row in dados_btc2.iterrows():\n",
    "    if row['FILTRO'] == 'TAXA DE REMUNERAÇÃO':\n",
    "        valor = dados_btc2.loc[(dados_btc2['Movimentação']==row['Movimentação']) & \n",
    "                           (dados_btc2['ATIVO']==row['ATIVO']) &\n",
    "                           (dados_btc2['FILTRO']=='TAXA NEGOCIACAO EMPRESTIMO')]\n",
    "        #pega o valor da linha 0, coluna 3 (coluna 3 é a coluna do Valor de transação)\n",
    "        #print(f\"x{row['Movimentação']}x y{row['ATIVO']}y z{valor}z\")\n",
    "        #print(f\"primeiro: {len(valor)}\")\n",
    "        if len(valor) > 0:\n",
    "            valor_escalar = valor.iat[0,2]\n",
    "            dados_btc2.loc[index,'NEGOCIACAO_BTC_PAPEL'] = valor_escalar\n",
    "\n",
    "        \n",
    "#        valor = dados_btc2.loc[(dados_btc2['Movimentação']==row['Movimentação']) & \n",
    "#                           (dados_btc2['ATIVO']==row['ATIVO']) &\n",
    "#                           (dados_btc2['FILTRO']=='REEMB.DIVIDENDOS')]\n",
    "        #pega o valor da linha 0, coluna 3 (coluna 3 é a coluna do Valor de transação)\n",
    "        #print(f\"segundo: {len(valor)}\")\n",
    "#        if len(valor) > 0:\n",
    "#            valor_escalar = valor.iat[0,2]\n",
    "#            dados_btc2.loc[index,'REEMB_BTC_PAPEL'] = valor_escalar\n",
    "              \n",
    "        #print(f\"x{row['Movimentação']}x y{row['ATIVO']}y z{valor}z\")\n",
    "\n",
    "# coluna TAXA DE REMUNERAÇÃO desnecessária       \n",
    "dados_btc2 = dados_btc2.drop(columns=['TAXA DE REMUNERAÇÃO'])      \n",
    "\n",
    "# remove linhas de TAXA NEGOCIACAO EMPRESTIMO\n",
    "dados_btc2 = dados_btc2[~(dados_btc2['FILTRO']=='TAXA NEGOCIACAO EMPRESTIMO')]\n",
    "\n",
    "# adiciona coluna de TAXA DE REMUNERAÇÃO\n",
    "dados_btc2['REMUNERACAO_BTC_PAPEL'] = dados_btc2.loc[dados_btc2['FILTRO'].str.contains(\"TAXA DE REMUNERAÇÃO\"),'Valor de transação'] \n",
    "\n",
    "# adiciona coluna de TAXA DE PERMANENCIA\n",
    "dados_btc2['TAXA_PERMANENCIA_PAPEL'] = dados_btc2.loc[dados_btc2['FILTRO'].str.contains(\"TAXA DE PERMANÊNCIA OP. ESTRUTURADAS\"),'Valor de transação'] \n",
    "\n",
    "# adiciona coluna de REEMB DIVIDENDOS\n",
    "dados_btc2['REEMB_DIV_PAPEL'] = dados_btc2.loc[dados_btc2['FILTRO'].str.contains(\"REEMB.DIVIDENDOS\"),'Valor de transação'] \n",
    "\n",
    "\n",
    "# reposiciona as colunas para melhor organização\n",
    "dados_btc2 = dados_btc2.reindex(['Movimentação', 'ATIVO', 'FILTRO', 'Descrição','Valor de transação','REMUNERACAO_BTC_PAPEL',\n",
    "                                 'COMISSAO_BTC_PAPEL','NEGOCIACAO_BTC_PAPEL','REEMB_DIV_PAPEL' ,\n",
    "                                'TAXA_PERMANENCIA_PAPEL'],axis=1)\n",
    "\n",
    "# preenche com zero onde estiver NA\n",
    "# se nao fizer isso, o CUSTO_TOTAL ficará com NA\n",
    "dados_btc2.fillna(0, inplace=True)\n",
    "\n",
    "# custo total\n",
    "dados_btc2['CUSTO_TOTAL'] = dados_btc2['REMUNERACAO_BTC_PAPEL'] + \\\n",
    "                            dados_btc2['COMISSAO_BTC_PAPEL'] +    \\\n",
    "                            dados_btc2['NEGOCIACAO_BTC_PAPEL'] +  \\\n",
    "                            dados_btc2['REEMB_DIV_PAPEL'] +       \\\n",
    "                            dados_btc2['TAXA_PERMANENCIA_PAPEL'] \n",
    "\n",
    "# remove colunas desnecessárias\n",
    "dados_btc2.drop(columns=['FILTRO','Descrição','Valor de transação'], inplace=True)\n",
    "\n",
    "\n"
   ]
  },
  {
   "cell_type": "code",
   "execution_count": null,
   "id": "7a02ba49",
   "metadata": {},
   "outputs": [],
   "source": [
    "# transforma todos os números em positivo\n",
    "for column in dados_btc2.columns:\n",
    "    if dados_btc2[column].dtypes == float:\n",
    "        dados_btc2[column] = dados_btc2[column].abs()\n"
   ]
  },
  {
   "cell_type": "code",
   "execution_count": null,
   "id": "604b333e",
   "metadata": {},
   "outputs": [],
   "source": [
    "dados_btc2[dados_btc2['Movimentação'] == '2023-08-07']"
   ]
  },
  {
   "cell_type": "code",
   "execution_count": null,
   "id": "abcbd438",
   "metadata": {},
   "outputs": [],
   "source": [
    "dados_btc2[dados_btc2['Movimentação'] == '2023-06-30']"
   ]
  },
  {
   "cell_type": "code",
   "execution_count": null,
   "id": "f91a3f11",
   "metadata": {},
   "outputs": [],
   "source": [
    "# exporta dados para o excel\n",
    "dados_btc2.to_excel('custos_btc.xlsx')"
   ]
  }
 ],
 "metadata": {
  "kernelspec": {
   "display_name": "Python 3 (ipykernel)",
   "language": "python",
   "name": "python3"
  },
  "language_info": {
   "codemirror_mode": {
    "name": "ipython",
    "version": 3
   },
   "file_extension": ".py",
   "mimetype": "text/x-python",
   "name": "python",
   "nbconvert_exporter": "python",
   "pygments_lexer": "ipython3",
   "version": "3.8.16"
  }
 },
 "nbformat": 4,
 "nbformat_minor": 5
}
