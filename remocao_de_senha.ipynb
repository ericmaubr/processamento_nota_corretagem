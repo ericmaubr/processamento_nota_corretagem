{
 "cells": [
  {
   "cell_type": "markdown",
   "id": "bfeb2721",
   "metadata": {},
   "source": [
    "# Remoção de senha das Notas de Corretagem\n",
    "\n",
    "Utiliza um arquivo de senhas para descriptografar os arquivos.\n",
    "O arquivo deve ter o formato:\n",
    "<diretório> <senha>\n",
    "    \n",
    "Por exemplo:\n",
    "btg_john 123\n",
    "xp_jane 456\n",
    "    \n",
    "Quando o arquivo é descriptografado, coloca o sufixo _sem_senha e move o arquivo original para _orig.\n",
    "\n",
    "O arquivo de diretórios deve contar um arquivo por linha.\n",
    "    "
   ]
  },
  {
   "cell_type": "code",
   "execution_count": null,
   "id": "0109d13e",
   "metadata": {},
   "outputs": [],
   "source": [
    "# para acessar lista de arquivos de um diretório\n",
    "import os\n",
    "from os import listdir, walk, mkdir, rename\n",
    "from os.path import isfile, join\n",
    "\n",
    "## import do PyPDF - utilizado para descriptografar os arquivos .PDF\n",
    "from pikepdf import Pdf, PasswordError\n",
    "\n",
    "## expressão regular para achar mais facilmente uma string dentro de outra\n",
    "import regex"
   ]
  },
  {
   "cell_type": "code",
   "execution_count": null,
   "id": "0b3682b1",
   "metadata": {},
   "outputs": [],
   "source": [
    "ARQUIVO_SENHA = \"diret_senhas.txt\"\n",
    "ARQUIVO_DIRETORIOS = \"diretorios_notas.txt\"\n"
   ]
  },
  {
   "cell_type": "code",
   "execution_count": null,
   "id": "5bc80ee3",
   "metadata": {},
   "outputs": [],
   "source": [
    "# sufixo do arquivo descriptografado\n",
    "__SUFIXO_SEM_SENHA=\"_sem_senha\"\n",
    "\n",
    "# diretório onde os arquivos originais (criptografados) serão movidos\n",
    "__MOVE_DIR = \"_orig\"\n",
    "\n"
   ]
  },
  {
   "cell_type": "code",
   "execution_count": null,
   "id": "4ef5b305",
   "metadata": {},
   "outputs": [],
   "source": [
    "# processa arquivo de mapeamento de diretório e senha\n",
    "__SENHAS_PDF = {}\n",
    "\n",
    "with open(ARQUIVO_SENHA, 'r') as f:\n",
    "    for linha in f:       \n",
    "#        print(f\"DEBUG *** linha: {linha}\")\n",
    "        \n",
    "        if not linha.startswith(\"#\"):\n",
    "            linha_lista = linha.split()\n",
    "            __SENHAS_PDF[linha_lista[0]] = linha_lista[1]\n"
   ]
  },
  {
   "cell_type": "code",
   "execution_count": null,
   "id": "b9ef4cd0",
   "metadata": {},
   "outputs": [],
   "source": [
    "# processa o arquivo de diretório de notas de corretagem a processar\n",
    "diretorios_notas = []\n",
    "with open(ARQUIVO_DIRETORIOS, 'r') as f:\n",
    "    for linha in f:       \n",
    "#        print(f\"DEBUG *** linha: {linha}\")\n",
    "        \n",
    "        if not linha.startswith(\"#\"):\n",
    "            diretorios_notas.append(linha.strip())\n"
   ]
  },
  {
   "cell_type": "code",
   "execution_count": null,
   "id": "0c074296",
   "metadata": {},
   "outputs": [],
   "source": [
    "__EXCLUDE_DIR = set([__MOVE_DIR])\n",
    "diretorios = __SENHAS_PDF.keys()\n",
    "re = regex.compile(r\"\\L<name>\", name=diretorios)\n"
   ]
  },
  {
   "cell_type": "code",
   "execution_count": null,
   "id": "e35db130",
   "metadata": {},
   "outputs": [],
   "source": [
    "lista_arquivos = []\n",
    "for diretorio in diretorios_notas:\n",
    "    for (dirpath, dirnames, filenames) in walk(diretorio):\n",
    "        dirnames[:] = [d for d in dirnames if d not in __EXCLUDE_DIR]\n",
    "        filenames[:] = [f for f in filenames if __SUFIXO_SEM_SENHA not in f ]\n",
    "        \n",
    "            \n",
    "        for f in filenames:\n",
    "            saida = re.findall(dirpath)\n",
    "            if (len(saida) > 0 and f.lower().endswith(\".pdf\")):\n",
    "                lista_arquivos.append(os.path.join(dirpath,f))\n",
    "            \n",
    "#print(lista_arquivos)            "
   ]
  },
  {
   "cell_type": "code",
   "execution_count": null,
   "id": "5c66f9b6",
   "metadata": {},
   "outputs": [],
   "source": [
    "i=1\n",
    "qtd_files = len(lista_arquivos)\n",
    "\n",
    "for arquivoPDF in lista_arquivos:\n",
    "    \n",
    "    print(f'Arq {i} de {qtd_files}: {arquivoPDF}')\n",
    "    try:    \n",
    "        arquivoCript =  Pdf.open(arquivoPDF)\n",
    "        del arquivoCript\n",
    "    except PasswordError as error:\n",
    "        senha_pdf = __SENHAS_PDF[re.findall(arquivoPDF)[0]]\n",
    "        arquivoCript =  Pdf.open(arquivoPDF, password=senha_pdf)\n",
    "        \n",
    "        novo_nome = arquivoPDF.split(\".\")[0]+__SUFIXO_SEM_SENHA+\".\"+arquivoPDF.split(\".\")[1]\n",
    "        \n",
    "        arquivoCript.save(novo_nome)\n",
    "     \n",
    "        move_diretorio = os.path.join(os.path.abspath(os.path.dirname(novo_nome)),__MOVE_DIR)\n",
    "        \n",
    "        if (not os.path.exists(move_diretorio)):\n",
    "            mkdir(move_diretorio)\n",
    "        \n",
    "        old_name = os.path.basename(arquivoPDF)\n",
    "    \n",
    "        destino = os.path.join(move_diretorio, old_name)\n",
    "        \n",
    "        del arquivoCript\n",
    "        \n",
    "        try:\n",
    "            rename(arquivoPDF, destino)\n",
    "        except FileExistsError as e:\n",
    "            print(f\"** ERRO: arquivo {destino} já existe. O arquivo {arquivoPDF} não foi movido.\")\n",
    "    \n",
    "    i += 1\n",
    "        \n",
    "print(\"*** Arquivos descriptografrados. ***\")    "
   ]
  },
  {
   "cell_type": "code",
   "execution_count": null,
   "id": "7f04d4a1",
   "metadata": {},
   "outputs": [],
   "source": [
    "for (dirpath1, dirnames1, filenames1) in walk(diretorios_notas[0]):\n",
    "    print(f\"dirpath1: {dirpath1}, dirnames1: {dirnames1}, filenames1:{filenames1}\")\n",
    "    \n",
    "del dirpath1\n",
    "del dirnames1\n",
    "del filenames1"
   ]
  }
 ],
 "metadata": {
  "kernelspec": {
   "display_name": "Python 3 (ipykernel)",
   "language": "python",
   "name": "python3"
  },
  "language_info": {
   "codemirror_mode": {
    "name": "ipython",
    "version": 3
   },
   "file_extension": ".py",
   "mimetype": "text/x-python",
   "name": "python",
   "nbconvert_exporter": "python",
   "pygments_lexer": "ipython3",
   "version": "3.8.16"
  }
 },
 "nbformat": 4,
 "nbformat_minor": 5
}
